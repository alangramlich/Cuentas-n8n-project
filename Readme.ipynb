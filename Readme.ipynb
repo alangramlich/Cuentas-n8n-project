{
 "cells": [
  {
   "cell_type": "markdown",
   "id": "01139ae7-d3e6-4130-807a-a18201650be2",
   "metadata": {},
   "source": [
    "<img src=\"imagenes/qr.png\" alt=\"QR\" width=\"500\">\n",
    "\n"
   ]
  },
  {
   "cell_type": "markdown",
   "id": "9c734d2f-a8e0-4e2b-bc9a-e4db10a995cc",
   "metadata": {},
   "source": [
    "# Introduccion"
   ]
  },
  {
   "cell_type": "markdown",
   "id": "c7ed5082-07ad-4fe1-a7a9-ef798917733e",
   "metadata": {},
   "source": [
    "Cuentas es una herramienta pensada para facilitar la contabilidad de la casa. Le permite al usuario facilmente categorizar sus gastos para luego poder analizarlos. Utiliza como interfaz un chat de Telegram al que se pueden enviar imagenes, audio o texto para informar de gastos o ingresos y estos se ven reflejados en un archivo de google sheets personal.\n",
    "APIs utilizadas: Mistral OCR, OpenAI LLM, Google Drive, Google Sheets, Telegram."
   ]
  },
  {
   "cell_type": "markdown",
   "id": "63b46988-d812-49d1-99e9-6eee066c6300",
   "metadata": {},
   "source": [
    "<img src=\"imagenes/ticket1.jpg\" alt=\"QR\" width=\"500\">"
   ]
  },
  {
   "cell_type": "markdown",
   "id": "3a6dcda5-26cb-4ef2-ad55-95ae4135074d",
   "metadata": {},
   "source": [
    "<img src=\"imagenes/rta_ticket1.png\" alt=\"QR\" width=\"500\">"
   ]
  },
  {
   "cell_type": "markdown",
   "id": "41cb4e54-9c6a-439c-bf76-7cf0589f16a6",
   "metadata": {},
   "source": [
    "<img src=\"imagenes/sheets_ticket1.png\" alt=\"QR\" width=\"500\">"
   ]
  },
  {
   "cell_type": "markdown",
   "id": "0c5d4f9e-2eda-46ad-8a62-1d9b73fc251c",
   "metadata": {},
   "source": [
    "**Las categorias (en el ejemplo, \"alimentacion\") son definidas en la hoja \"mis categorias\" del sheets donde se suben los datos.\n",
    "La siguiente imagen muestra las categorias predefinidas.**\n"
   ]
  },
  {
   "cell_type": "markdown",
   "id": "8b1e0319-0a1f-4ac7-9468-d508d08f593f",
   "metadata": {},
   "source": [
    "<img src=\"imagenes/mis_categorias_predefinidas.png\" alt=\"QR\" width=\"500\">"
   ]
  },
  {
   "cell_type": "markdown",
   "id": "ba93c783-9203-4dfc-b94d-c6429c914b09",
   "metadata": {},
   "source": [
    "| **Categoría**         | **Descripción**                                                                                                                                                      | **Gasto/Ingreso** |\n",
    "|------------------------|----------------------------------------------------------------------------------------------------------------------------------------------------------------------|-------------------|\n",
    "| Alimentación           | Compras de supermercado, verdulería, carnicería, panadería, bebidas y snacks.                                                                                        | Gasto             |\n",
    "| Vivienda               | Alquiler, expensas, impuestos, servicios (agua, luz, gas, internet).                                                                                                 | Gasto             |\n",
    "| Transporte             | Nafta, pasajes de colectivo/tren/subte, peajes, mantenimiento de vehículos.                                                                                          | Gasto             |\n",
    "| Salud                  | Medicamentos, consultas médicas, estudios, obra social o prepaga.                                                                                                   | Gasto             |\n",
    "| Educación              | Colegios, universidades, cursos, útiles escolares, libros, escuelas, idiomas (Inglés, Alemán, Francés, etc.).                                                        | Gasto             |\n",
    "| Ocio y Recreación      | Salidas a comer, cine, streaming, deportes, hobbies, entretenimiento en general.                                                                                    | Gasto             |\n",
    "| Indumentaria           | Ropa, calzado y accesorios para toda la familia.                                                                              | Gasto             |\n",
    "| Tecnología             | Celulares, electrodomésticos, computadoras, mantenimiento y servicios digitales.                                              | Gasto             |\n",
    "| Seguros                | Seguro de auto, hogar, vida, salud.                                                                                           | Gasto             |\n",
    "| Ingresos               | Dinero recibido por salario, pagos, cobros o transferencias (“Me pagaron…”, “Cobré…”).                                        | Ingreso           |\n",
    "| Ahorro                 | Dinero reservado durante el mes en curso.                                                                                    | Gasto             |\n"
   ]
  },
  {
   "cell_type": "markdown",
   "id": "c4068ae0-32da-4757-bda7-b4efd27ca5a8",
   "metadata": {},
   "source": [
    "**Pero... y si quiero categorizar mas a fondo mis alimentos?**"
   ]
  },
  {
   "cell_type": "markdown",
   "id": "c8c33cde-f2d1-42e5-b193-d7bddfd0f817",
   "metadata": {},
   "source": [
    "<img src=\"imagenes/rta_ticket2.png\" alt=\"QR\" width=\"500\">"
   ]
  },
  {
   "cell_type": "markdown",
   "id": "f1f1d205-e5ba-4885-8a33-85cba66f5ab6",
   "metadata": {},
   "source": [
    "**Simplemente basta con modificar la hoja donde estas categorias estan definidas.**"
   ]
  },
  {
   "cell_type": "markdown",
   "id": "ccc66f27-3930-43ae-a723-08bf5edcd9f0",
   "metadata": {},
   "source": [
    "<img src=\"imagenes/modificar_categorias.png\" alt=\"QR\" width=\"500\">"
   ]
  },
  {
   "cell_type": "markdown",
   "id": "79577e76-60c6-4c73-8faf-c7d4c7aa24ae",
   "metadata": {},
   "source": [
    "| **Categoría**        | **Descripción**                                                                                                                                                     | **Gasto/Ingreso** |\n",
    "|-----------------------|---------------------------------------------------------------------------------------------------------------------------------------------------------------------|-------------------|\n",
    "| Alimentación          | Alimentos en general.                                                                                                                                               | Gasto             |\n",
    "| Vivienda              | Alquiler, expensas, impuestos, servicios (agua, luz, gas, internet).                                                                                                | Gasto             |\n",
    "| Transporte            | Nafta, pasajes de colectivo/tren/subte, peajes, mantenimiento de vehículos.                                                                                         | Gasto             |\n",
    "| Salud                 | Medicamentos, consultas médicas, estudios, obra social o prepaga.                                                                                                   | Gasto             |\n",
    "| Educación             | Colegios, universidades, cursos, útiles escolares, libros, escuelas, idiomas (Inglés, Alemán, Francés, etc.).                                                       | Gasto             |\n",
    "| Ocio y Recreación     | Salidas a comer, cine, streaming, deportes, hobbies, entretenimiento en general.                                                                                     | Gasto             |\n",
    "| Indumentaria          | Ropa, calzado y accesorios para toda la familia.                                                                                                                    | Gasto             |\n",
    "| Tecnología            | Celulares, electrodomésticos, computadoras, mantenimiento y servicios digitales.                                                                                    | Gasto             |\n",
    "| Seguros               | Seguro de auto, hogar, vida, salud.                                                                                                                                | Gasto             |\n",
    "| Ingresos              | Dinero recibido por salario, pagos, cobros o transferencias (“Me pagaron…”, “Cobré…”).                                       | Ingreso           |\n",
    "| Ahorro                | Dinero reservado durante el mes en curso.                                                                                    | Gasto             |\n",
    "| Lácteos               | Compras de leche, yogures, quesos, manteca, crema, postres lácteos y productos derivados.                                     | Gasto             |\n",
    "| Carnes                | Compras de carne vacuna, pollo, cerdo, pescado y embutidos, tanto en carnicerías como en supermercados.                        | Gasto             |\n",
    "| Cereales              | Compras de arroz, fideos, harinas, pan, galletitas, cereales para desayuno y productos de panificación en general.             | Gasto             |\n"
   ]
  },
  {
   "cell_type": "markdown",
   "id": "03517186-90c8-465d-b9b0-5913e679c12f",
   "metadata": {},
   "source": [
    "**Y Cuentas ya es capaz de adaptarse a nuestras categorias personalizadas.**"
   ]
  },
  {
   "cell_type": "markdown",
   "id": "f64c5940-3765-4917-8c56-500e50fee155",
   "metadata": {},
   "source": [
    "<img src=\"imagenes/rta_ticket2_cat_modificadas.png\" alt=\"QR\" width=\"500\">"
   ]
  },
  {
   "cell_type": "markdown",
   "id": "cec2ffdd-8ddd-47ff-971a-43250e2e39a5",
   "metadata": {},
   "source": [
    "**Cuentas tambien lleva el control de cuanto dinero nos queda para el mes, y podemos consultarlo cuando necesitemos**"
   ]
  },
  {
   "cell_type": "markdown",
   "id": "2733a0ac-c227-4b08-88d7-c60f1b897c8f",
   "metadata": {},
   "source": [
    "<img src=\"imagenes/restante.png\" alt=\"QR\" width=\"500\">"
   ]
  },
  {
   "cell_type": "markdown",
   "id": "b67d4491-c072-4a99-8bd2-1c31ca32415a",
   "metadata": {},
   "source": [
    "# Registro automatico\n",
    "**Cuentas es capaz de manejar el registro automatico de nuevos usuarios. Para poder registrarse y comenzar a usarlo, solo hay que indicarle un correo**"
   ]
  },
  {
   "cell_type": "markdown",
   "id": "e3cdfab7-2eb2-441c-96ca-bcfc2771c82f",
   "metadata": {},
   "source": [
    "<img src=\"imagenes/registro.png\" alt=\"QR\" width=\"500\">"
   ]
  },
  {
   "cell_type": "markdown",
   "id": "e1f02a3d-8d09-4ca5-a72b-6fd4716c7dc4",
   "metadata": {},
   "source": [
    "<img src=\"imagenes/sheet_recibido.jpg\" alt=\"QR\" width=\"500\">"
   ]
  },
  {
   "cell_type": "markdown",
   "id": "ef569377-a608-4aeb-851f-81ab52938327",
   "metadata": {},
   "source": [
    "Te invito a comenzar a usarlo o descargar la plantilla (presente en este repo) y evaluarlo por tu cuenta.\n",
    "(NOTA: El registro a veces falla.)"
   ]
  },
  {
   "cell_type": "code",
   "execution_count": null,
   "id": "7c6ddb3c-0fde-4036-a1c7-b1ac89f0c22c",
   "metadata": {},
   "outputs": [],
   "source": []
  }
 ],
 "metadata": {
  "kernelspec": {
   "display_name": "Python 3 (ipykernel)",
   "language": "python",
   "name": "python3"
  },
  "language_info": {
   "codemirror_mode": {
    "name": "ipython",
    "version": 3
   },
   "file_extension": ".py",
   "mimetype": "text/x-python",
   "name": "python",
   "nbconvert_exporter": "python",
   "pygments_lexer": "ipython3",
   "version": "3.13.5"
  }
 },
 "nbformat": 4,
 "nbformat_minor": 5
}
